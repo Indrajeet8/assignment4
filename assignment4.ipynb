{
 "cells": [
  {
   "cell_type": "code",
   "execution_count": 2,
   "id": "d8f774e3-41c3-44af-a8d4-450a21046a2f",
   "metadata": {},
   "outputs": [],
   "source": [
    "#assingment 4 "
   ]
  },
  {
   "cell_type": "markdown",
   "id": "d928faa5-00c5-48e7-9289-82566b3ba3bd",
   "metadata": {},
   "source": [
    "#ques-1\n",
    "Which keyword is used to create a function?\n",
    "Create a function to return a list of odd numbers in the range of 1 to 25."
   ]
  },
  {
   "cell_type": "code",
   "execution_count": 4,
   "id": "b1cff657-b583-4b84-bfb0-48c85ef8ba84",
   "metadata": {},
   "outputs": [
    {
     "data": {
      "text/plain": [
       "[1, 3, 5, 7, 9, 11, 13, 15, 17, 19, 21, 23, 25]"
      ]
     },
     "execution_count": 4,
     "metadata": {},
     "output_type": "execute_result"
    }
   ],
   "source": [
    "def odd_numbers():\n",
    "    l = []\n",
    "    for i in range(1,26):\n",
    "        if(i % 2 != 0):\n",
    "            l.append(i)\n",
    "    return l       \n",
    "odd_numbers()     "
   ]
  },
  {
   "cell_type": "markdown",
   "id": "0e7fce42-43f0-4baf-9699-6c221a620f22",
   "metadata": {},
   "source": [
    "#ques--2 \n",
    "Why *args and **kwargs is used in some functions?\n",
    "Create a function each for *args and **kwargs to demonstrate their use."
   ]
  },
  {
   "cell_type": "markdown",
   "id": "89199411-c499-4d74-b121-1278b3748042",
   "metadata": {},
   "source": [
    " #args and kwargs make a Python function flexible so it can accept a variable number of arguments and keyword arguments, respectively"
   ]
  },
  {
   "cell_type": "code",
   "execution_count": 7,
   "id": "3c80a17d-c9af-419c-a461-713532fc4826",
   "metadata": {},
   "outputs": [
    {
     "name": "stdout",
     "output_type": "stream",
     "text": [
      "(2, 3) <class 'tuple'>\n"
     ]
    }
   ],
   "source": [
    "def add (*args) :\n",
    "    print(args,type(args))\n",
    "add(2,3)"
   ]
  },
  {
   "cell_type": "markdown",
   "id": "e1abb7b4-6cd7-4014-ac7c-4a2c65872eb0",
   "metadata": {},
   "source": [
    "3. What is an iterator in python?\n",
    "Name the method used to initialise the iterator object and the method used for iteration.\n",
    "Use these methods to print the first five elements of the given list [2, 4, 6, 8, 10, 12, 14, 16, 18, 20]."
   ]
  },
  {
   "cell_type": "markdown",
   "id": "b337c019-b120-4804-ae3d-aedafdf9ede3",
   "metadata": {},
   "source": [
    " Ans. An iterator is an object that contains a countable number of values.\n",
    "An iterator is an object that can be iterated upon, meaning that you can traverse through all the values.\n",
    "Technically, in Python, an iterator is an object which implements the iterator protocol, which consist of the methods __iter__() and __next__()."
   ]
  },
  {
   "cell_type": "code",
   "execution_count": 15,
   "id": "1ceaf54c-46d9-4932-943b-9e2ff3339b45",
   "metadata": {},
   "outputs": [
    {
     "name": "stdout",
     "output_type": "stream",
     "text": [
      "2\n",
      "4\n",
      "6\n",
      "8\n",
      "10\n",
      "12\n",
      "14\n",
      "16\n",
      "18\n",
      "20\n"
     ]
    }
   ],
   "source": [
    "l1 = [2, 4, 6, 8, 10, 12, 14, 16, 18, 20]\n",
    "\n",
    "iter_obj = iter(l1)\n",
    "print(next (iter_obj))\n",
    "print(next (iter_obj))\n",
    "print(next (iter_obj))\n",
    "print(next (iter_obj))\n",
    "print(next (iter_obj))\n",
    "print(next (iter_obj))\n",
    "print(next (iter_obj))\n",
    "print(next (iter_obj))\n",
    "print(next (iter_obj))\n",
    "print(next (iter_obj))"
   ]
  },
  {
   "cell_type": "markdown",
   "id": "a8d39b9b-3fc2-4c27-a5b4-bd895043af3d",
   "metadata": {},
   "source": [
    "4.hat is a generator function in python?\n",
    "Why yield keyword is used?\n",
    "Give an example of a generator function."
   ]
  },
  {
   "cell_type": "markdown",
   "id": "c7cff91c-a8bb-497f-9007-820ee0c63a7b",
   "metadata": {},
   "source": [
    "Ans:-\n",
    "Generator:\n",
    "1.In Python, a generator is a function that returns an iterator that produces a sequence of values when iterated over.\n",
    "2.Generators are useful when we want to produce a large sequence of values, but we don't want to store all of them in memory at once.\n",
    "Yield:\n",
    "The yield keyword is used to produce a value from the generator."
   ]
  },
  {
   "cell_type": "code",
   "execution_count": 17,
   "id": "3125952c-fa65-48e5-a8a0-fa630483f433",
   "metadata": {},
   "outputs": [],
   "source": [
    "#Example "
   ]
  },
  {
   "cell_type": "code",
   "execution_count": 20,
   "id": "49ae6a8d-cf5c-4328-9583-2dd308ad218d",
   "metadata": {},
   "outputs": [
    {
     "name": "stdout",
     "output_type": "stream",
     "text": [
      "0\n",
      "1\n",
      "2\n",
      "3\n",
      "4\n"
     ]
    }
   ],
   "source": [
    "def generator(n):\n",
    "    value = 0\n",
    "    while value < n :\n",
    "        yield value \n",
    "        value+= 1\n",
    "for value in generator (5):\n",
    "    print (value)"
   ]
  },
  {
   "cell_type": "markdown",
   "id": "47290d8f-cad5-4914-b0dd-4090ff8e5651",
   "metadata": {},
   "source": [
    "6. Write a python program to print the first 10 Fibonacci numbers using a while loop."
   ]
  },
  {
   "cell_type": "code",
   "execution_count": 23,
   "id": "5e629aa9-7b95-47c3-a6fd-f5e9c06936eb",
   "metadata": {},
   "outputs": [
    {
     "name": "stdout",
     "output_type": "stream",
     "text": [
      "0 1 1 2 3 5 8 13 21 34 "
     ]
    }
   ],
   "source": [
    "n = 10\n",
    "a,b = 0,1\n",
    "i = 0\n",
    "while i < 10:\n",
    "    print (a , end = \" \")\n",
    "    c = a+b\n",
    "    a= b\n",
    "    b=c\n",
    "    i=i+1"
   ]
  },
  {
   "cell_type": "markdown",
   "id": "ceb20034-a2c8-4aa4-b5c8-8906431508ad",
   "metadata": {},
   "source": [
    "7. Write a List Comprehension to iterate through the given string: ‘pwskills’."
   ]
  },
  {
   "cell_type": "code",
   "execution_count": 24,
   "id": "6341e836-a3ae-4a57-a0ed-63e5e792e34c",
   "metadata": {},
   "outputs": [
    {
     "name": "stdout",
     "output_type": "stream",
     "text": [
      "['p', 'w', 's', 'k', 'i', 'l', 'l', 's']\n"
     ]
    }
   ],
   "source": [
    "s = \"pwskills\"\n",
    "List = [character for character in s]\n",
    " \n",
    "print(List)"
   ]
  },
  {
   "cell_type": "markdown",
   "id": "c39f83ff-293b-4b8f-8d24-96152529e3b4",
   "metadata": {},
   "source": [
    "9.Write a code to print odd numbers from 1 to 100 using list comprehension.\n",
    "Note: Use a list comprehension to create a list from 1 to 100 and use another List comprehension to filter out odd numbers"
   ]
  },
  {
   "cell_type": "code",
   "execution_count": 25,
   "id": "3958ec7b-233c-478e-ad0c-001b557a0695",
   "metadata": {},
   "outputs": [
    {
     "name": "stdout",
     "output_type": "stream",
     "text": [
      "Odd Numbers = [1, 3, 5, 7, 9, 11, 13, 15, 17, 19, 21, 23, 25, 27, 29, 31, 33, 35, 37, 39, 41, 43, 45, 47, 49, 51, 53, 55, 57, 59, 61, 63, 65, 67, 69, 71, 73, 75, 77, 79, 81, 83, 85, 87, 89, 91, 93, 95, 97, 99]\n"
     ]
    }
   ],
   "source": [
    "L = [i for i in range(101)]\n",
    "L1 = [i for i in L if i % 2 != 0]\n",
    "print(\"Odd Numbers =\", L1)"
   ]
  },
  {
   "cell_type": "code",
   "execution_count": null,
   "id": "1806f6f9-1ad4-4662-9339-414a4f9e5a15",
   "metadata": {},
   "outputs": [],
   "source": []
  }
 ],
 "metadata": {
  "kernelspec": {
   "display_name": "Python 3 (ipykernel)",
   "language": "python",
   "name": "python3"
  },
  "language_info": {
   "codemirror_mode": {
    "name": "ipython",
    "version": 3
   },
   "file_extension": ".py",
   "mimetype": "text/x-python",
   "name": "python",
   "nbconvert_exporter": "python",
   "pygments_lexer": "ipython3",
   "version": "3.10.8"
  }
 },
 "nbformat": 4,
 "nbformat_minor": 5
}
